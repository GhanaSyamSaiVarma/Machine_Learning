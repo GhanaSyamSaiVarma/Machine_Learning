{
  "nbformat": 4,
  "nbformat_minor": 0,
  "metadata": {
    "colab": {
      "provenance": []
    },
    "kernelspec": {
      "name": "python3",
      "display_name": "Python 3"
    },
    "language_info": {
      "name": "python"
    }
  },
  "cells": [
    {
      "cell_type": "code",
      "execution_count": null,
      "metadata": {
        "colab": {
          "base_uri": "https://localhost:8080/"
        },
        "id": "3baGFKLzCI4i",
        "outputId": "c39d3095-63ae-4d8a-f59e-8a101cb2c6d1"
      },
      "outputs": [
        {
          "output_type": "stream",
          "name": "stdout",
          "text": [
            "Allocation:\n",
            " [[2.15384615 0.30769231 0.        ]\n",
            " [0.         1.66666667 0.        ]\n",
            " [0.         1.78947368 2.11111111]]\n",
            "Total cost: 32.488332883490784\n"
          ]
        }
      ],
      "source": [
        "import numpy as np\n",
        "\n",
        "# Define the supply and demand fuzzy sets\n",
        "supply_fuzzy_sets = [[(0, 1), (1, 6), (2, 7), (3, 12)],\n",
        "                     [(0, 0), (1, 1), (2, 2), (3, 3)],\n",
        "                     [(0, 5), (1, 10), (2, 11), (3, 12)]]\n",
        "demand_fuzzy_sets = [[(0, 5), (1, 7), (2, 8), (3, 10)],\n",
        "                     [(0, 1), (1, 5), (2, 6), (3, 10)],\n",
        "                     [(0, 1), (1, 3), (2, 4), (3, 6)]]\n",
        "\n",
        "# Define the cost matrix\n",
        "cost_matrix = np.array([[3, 3.071, 2.6739],\n",
        "                        [3.428, 5, 2.692],\n",
        "                        [8, 7, 2]])\n",
        "\n",
        "# Initialize the supply and demand arrays\n",
        "supply = np.zeros((len(supply_fuzzy_sets),))\n",
        "demand = np.zeros((len(demand_fuzzy_sets),))\n",
        "\n",
        "# Convert the supply and demand fuzzy sets to crisp values\n",
        "for i, fuzzy_set in enumerate(supply_fuzzy_sets):\n",
        "    supply[i] = sum([x[0]*x[1] for x in fuzzy_set]) / sum([x[1] for x in fuzzy_set])\n",
        "for i, fuzzy_set in enumerate(demand_fuzzy_sets):\n",
        "    demand[i] = sum([x[0]*x[1] for x in fuzzy_set]) / sum([x[1] for x in fuzzy_set])\n",
        "\n",
        "# Initialize the allocation matrix\n",
        "allocation = np.zeros((len(supply), len(demand)))\n",
        "\n",
        "# Initialize the indices for the north west corner method\n",
        "i, j = 0, 0\n",
        "\n",
        "# Apply the north west corner method to allocate the supply and demand\n",
        "while i < len(supply) and j < len(demand):\n",
        "    fuzzy_allocation = min(supply_fuzzy_sets[i][-1][1], demand_fuzzy_sets[j][-1][1])\n",
        "    crisp_allocation = sum([x[0]*x[1] for x in supply_fuzzy_sets[i][:fuzzy_allocation]]) / sum([x[1] for x in supply_fuzzy_sets[i][:fuzzy_allocation]])\n",
        "    allocation[i, j] = crisp_allocation\n",
        "    supply_fuzzy_sets[i] = [(x[0], x[1]-fuzzy_allocation) for x in supply_fuzzy_sets[i]]\n",
        "    demand_fuzzy_sets[j] = [(x[0], x[1]-fuzzy_allocation) for x in demand_fuzzy_sets[j]]\n",
        "    if supply_fuzzy_sets[i][-1][1] == 0:\n",
        "        i += 1\n",
        "    if demand_fuzzy_sets[j][-1][1] == 0:\n",
        "        j += 1\n",
        "\n",
        "# Compute the total cost of the allocation\n",
        "total_cost = np.sum(allocation * cost_matrix)\n",
        "\n",
        "# Print the results\n",
        "print(\"Allocation:\\n\", allocation)\n",
        "print(\"Total cost:\", total_cost)"
      ]
    }
  ]
}